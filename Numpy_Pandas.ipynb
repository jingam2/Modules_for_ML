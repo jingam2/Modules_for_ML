{
  "nbformat": 4,
  "nbformat_minor": 0,
  "metadata": {
    "colab": {
      "provenance": [],
      "authorship_tag": "ABX9TyNGv387ltn6GonzOPLklCPm"
    },
    "kernelspec": {
      "name": "python3",
      "display_name": "Python 3"
    },
    "language_info": {
      "name": "python"
    }
  },
  "cells": [
    {
      "cell_type": "code",
      "source": [
        "# 변수 선언 및 초기화\n",
        "a = 10  # 정수형 변수\n",
        "b = 3.14  # 실수형 변수\n",
        "c = \"Hello, World!\"  # 문자열 변수\n",
        "d = True  # 불리언 변수\n",
        "\n",
        "# 데이터 타입 확인\n",
        "print(type(a))  # <class 'int'>\n",
        "print(type(b))  # <class 'float'>\n",
        "print(type(c))  # <class 'str'>\n",
        "print(type(d))  # <class 'bool'>"
      ],
      "metadata": {
        "colab": {
          "base_uri": "https://localhost:8080/"
        },
        "id": "gpSF2wmoPOG5",
        "outputId": "0d388161-c6c5-47dc-830b-304dc88d48ed"
      },
      "execution_count": null,
      "outputs": [
        {
          "output_type": "stream",
          "name": "stdout",
          "text": [
            "<class 'int'>\n",
            "<class 'float'>\n",
            "<class 'str'>\n",
            "<class 'bool'>\n"
          ]
        }
      ]
    },
    {
      "cell_type": "code",
      "execution_count": null,
      "metadata": {
        "colab": {
          "base_uri": "https://localhost:8080/"
        },
        "id": "3W2JQiOOOEe2",
        "outputId": "6e4360f3-c399-4ae0-b0f3-214992548183"
      },
      "outputs": [
        {
          "output_type": "stream",
          "name": "stdout",
          "text": [
            "1\n",
            "1\n",
            "Alice\n"
          ]
        }
      ],
      "source": [
        "# 리스트 (List)\n",
        "my_list = [1, 2, 3, 4, 5]  # 리스트 선언\n",
        "print(my_list[0])  # 리스트의 첫 번째 요소 출력\n",
        "\n",
        "# 튜플 (Tuple)\n",
        "my_tuple = (1, 2, 3, 4, 5)  # 튜플 선언\n",
        "print(my_tuple[0])  # 튜플의 첫 번째 요소 출력\n",
        "\n",
        "# 딕셔너리 (Dictionary)\n",
        "my_dict = {\"name\": \"Alice\", \"age\": 25}  # 딕셔너리 선언\n",
        "print(my_dict[\"name\"])  # 딕셔너리의 'name' 키에 해당하는 값 출력"
      ]
    },
    {
      "cell_type": "code",
      "source": [
        "# 함수 정의\n",
        "def greet(name):\n",
        "    return f\"Hello, {name}!\"\n",
        "\n",
        "# 함수 호출\n",
        "print(greet(\"Alice\"))  # \"Hello, Alice!\" 출력\n",
        "\n",
        "# 모듈 사용 (예: math 모듈)\n",
        "import math\n",
        "print(math.sqrt(16))  # math 모듈의 sqrt 함수 사용, 4.0 출력"
      ],
      "metadata": {
        "colab": {
          "base_uri": "https://localhost:8080/"
        },
        "id": "5QKZVfFPOaLO",
        "outputId": "a49102f8-5193-4749-9604-44a1e6c0a6bf"
      },
      "execution_count": null,
      "outputs": [
        {
          "output_type": "stream",
          "name": "stdout",
          "text": [
            "Hello, Alice!\n",
            "4.0\n"
          ]
        }
      ]
    },
    {
      "cell_type": "code",
      "source": [
        "'''\n",
        "넘파이(Numpy)\n",
        "넘파이(Numpy)는 파이썬에서 과학 계산을 위한 핵심 라이브러리로, 다차원 배열 객체와 다양한 수학 함수들을 제공합니다.\n",
        "'''\n",
        "\n",
        "# 넘파이 임포트\n",
        "import numpy as np\n",
        "\n",
        "# 넘파이 배열 생성\n",
        "arr = np.array([1, 2, 3, 4, 5])\n",
        "print(arr)  # [1 2 3 4 5] 출력"
      ],
      "metadata": {
        "colab": {
          "base_uri": "https://localhost:8080/"
        },
        "id": "AOdDJrp_OaOY",
        "outputId": "628d22ff-0c72-48dc-ecdc-c8ed1800ac50"
      },
      "execution_count": null,
      "outputs": [
        {
          "output_type": "stream",
          "name": "stdout",
          "text": [
            "[1 2 3 4 5]\n"
          ]
        }
      ]
    },
    {
      "cell_type": "code",
      "source": [
        "# 1차원 배열 생성\n",
        "arr1 = np.array([1, 2, 3])\n",
        "\n",
        "# 2차원 배열 생성\n",
        "arr2 = np.array([[1, 2, 3], [4, 5, 6]])\n",
        "\n",
        "# 배열 초기화\n",
        "zeros = np.zeros((2, 3))  # 2x3 배열을 0으로 초기화\n",
        "ones = np.ones((2, 3))  # 2x3 배열을 1로 초기화\n"
      ],
      "metadata": {
        "id": "KSZRa81rOaRI"
      },
      "execution_count": null,
      "outputs": []
    },
    {
      "cell_type": "code",
      "source": [
        "arr = np.array([[1, 2, 3], [4, 5, 6]])\n",
        "\n",
        "print(arr.shape)  # 배열의 형태 출력, (2, 3)\n",
        "print(arr.dtype)  # 배열의 데이터 타입 출력, int64\n"
      ],
      "metadata": {
        "colab": {
          "base_uri": "https://localhost:8080/"
        },
        "id": "4Kqu3HnPOaUJ",
        "outputId": "bacfb760-705b-4f19-efad-2547c6627bf7"
      },
      "execution_count": null,
      "outputs": [
        {
          "output_type": "stream",
          "name": "stdout",
          "text": [
            "(2, 3)\n",
            "int64\n"
          ]
        }
      ]
    },
    {
      "cell_type": "code",
      "source": [
        "arr = np.array([1, 2, 3, 4, 5])\n",
        "\n",
        "print(arr[0])  # 첫 번째 요소 출력, 1\n",
        "print(arr[1:3])  # 두 번째부터 세 번째 요소까지 출력, [2 3]\n"
      ],
      "metadata": {
        "colab": {
          "base_uri": "https://localhost:8080/"
        },
        "id": "SwxJ9S2hOaXC",
        "outputId": "c47413bd-e179-4c38-ba07-c9b6af0f1c95"
      },
      "execution_count": null,
      "outputs": [
        {
          "output_type": "stream",
          "name": "stdout",
          "text": [
            "1\n",
            "[2 3]\n"
          ]
        }
      ]
    },
    {
      "cell_type": "code",
      "source": [
        "arr1 = np.array([1, 2, 3])\n",
        "arr2 = np.array([4, 5, 6])\n",
        "\n",
        "print(arr1 + arr2)  # 배열의 요소별 덧셈, [5 7 9]\n",
        "print(arr1 - arr2)  # 배열의 요소별 뺄셈, [-3 -3 -3]\n"
      ],
      "metadata": {
        "colab": {
          "base_uri": "https://localhost:8080/"
        },
        "id": "BdCGRywTOaar",
        "outputId": "15a682c9-6889-40ac-f504-243cc1945b85"
      },
      "execution_count": null,
      "outputs": [
        {
          "output_type": "stream",
          "name": "stdout",
          "text": [
            "[5 7 9]\n",
            "[-3 -3 -3]\n"
          ]
        }
      ]
    },
    {
      "cell_type": "code",
      "source": [
        "arr = np.array([1, 2, 3])\n",
        "scalar = 2\n",
        "\n",
        "print(arr * scalar)  # 배열의 모든 요소에 스칼라 곱셈, [2 4 6]\n"
      ],
      "metadata": {
        "colab": {
          "base_uri": "https://localhost:8080/"
        },
        "id": "1joEJb42Oad1",
        "outputId": "c49b47b0-1c9c-4474-864f-c1a046e6aa30"
      },
      "execution_count": null,
      "outputs": [
        {
          "output_type": "stream",
          "name": "stdout",
          "text": [
            "[2 4 6]\n"
          ]
        }
      ]
    },
    {
      "cell_type": "code",
      "source": [
        "arr = np.array([1, 2, 3, 4, 5])\n",
        "\n",
        "print(np.sqrt(arr))  # 배열의 모든 요소에 대해 제곱근 계산, [1. 1.41421356 1.73205081 2. 2.23606798]\n"
      ],
      "metadata": {
        "colab": {
          "base_uri": "https://localhost:8080/"
        },
        "id": "aLdwHQ5TOag_",
        "outputId": "d74a9980-cb08-4b63-bffb-0d1a1dadf40e"
      },
      "execution_count": null,
      "outputs": [
        {
          "output_type": "stream",
          "name": "stdout",
          "text": [
            "[1.         1.41421356 1.73205081 2.         2.23606798]\n"
          ]
        }
      ]
    },
    {
      "cell_type": "code",
      "source": [
        "arr = np.array([[1, 2, 3], [4, 5, 6]])\n",
        "\n",
        "reshaped = np.reshape(arr, (3, 2))  # 배열 형태 변경, [[1 2] [3 4] [5 6]]\n",
        "flattened = arr.flatten()  # 배열을 1차원으로 평탄화, [1 2 3 4 5 6]\n"
      ],
      "metadata": {
        "id": "vlT-YB4pOakN"
      },
      "execution_count": null,
      "outputs": []
    },
    {
      "cell_type": "code",
      "source": [
        "arr1 = np.array([1, 2, 3])\n",
        "arr2 = np.array([4, 5, 6])\n",
        "\n",
        "concatenated = np.concatenate((arr1, arr2))  # 배열 결합, [1 2 3 4 5 6]\n",
        "split = np.split(concatenated, 2)  # 배열 분할, [array([1, 2, 3]), array([4, 5, 6])]\n"
      ],
      "metadata": {
        "id": "knJ3IOV3OanM"
      },
      "execution_count": null,
      "outputs": []
    },
    {
      "cell_type": "code",
      "source": [
        "arr = np.array([3, 1, 2])\n",
        "\n",
        "sorted_arr = np.sort(arr)  # 배열 정렬, [1 2 3]\n",
        "index = np.where(arr == 2)  # 값이 2인 요소의 인덱스 검색, (array([2]),)\n"
      ],
      "metadata": {
        "id": "JT62GUWJOaqR"
      },
      "execution_count": null,
      "outputs": []
    },
    {
      "cell_type": "code",
      "source": [
        "matrix = np.array([[1, 2], [3, 4]])\n",
        "\n",
        "# 행렬 곱셈\n",
        "product = np.dot(matrix, matrix)  # [[7 10] [15 22]]\n",
        "\n",
        "# 역행렬\n",
        "inverse = np.linalg.inv(matrix)  # [[-2.  1.] [ 1.5 -0.5]]\n"
      ],
      "metadata": {
        "id": "ocLJQEoCOatS"
      },
      "execution_count": null,
      "outputs": []
    },
    {
      "cell_type": "code",
      "source": [
        "random_arr = np.random.rand(3, 2)  # 3x2 배열에 난수 생성\n",
        "print(random_arr)"
      ],
      "metadata": {
        "colab": {
          "base_uri": "https://localhost:8080/"
        },
        "id": "fgsVQ1RCOawT",
        "outputId": "59a28674-6c9d-4257-cc4e-8daf78fca28c"
      },
      "execution_count": null,
      "outputs": [
        {
          "output_type": "stream",
          "name": "stdout",
          "text": [
            "[[0.65041309 0.11013645]\n",
            " [0.94545011 0.84259681]\n",
            " [0.36445637 0.91025797]]\n"
          ]
        }
      ]
    },
    {
      "cell_type": "code",
      "source": [
        "'''\n",
        "판다스(Pandas)\n",
        "\n",
        "판다스(Pandas)는 데이터 조작 및 분석을 위한 파이썬 라이브러리로, 특히 데이터프레임(DataFrame)이라는 강력한 데이터 구조를 제공합니다.\n",
        "이를 통해 데이터 분석, 정리, 변환, 시각화 등을 쉽게 수행할 수 있습니다.\n",
        "'''"
      ],
      "metadata": {
        "colab": {
          "base_uri": "https://localhost:8080/",
          "height": 54
        },
        "id": "aFus53BgPu4M",
        "outputId": "2c5ec09e-643b-424e-8690-1401e7274e47"
      },
      "execution_count": null,
      "outputs": [
        {
          "output_type": "execute_result",
          "data": {
            "text/plain": [
              "'\\n판다스(Pandas)\\n\\n판다스(Pandas)는 데이터 조작 및 분석을 위한 파이썬 라이브러리로, 특히 데이터프레임(DataFrame)이라는 강력한 데이터 구조를 제공합니다. \\n이를 통해 데이터 분석, 정리, 변환, 시각화 등을 쉽게 수행할 수 있습니다.\\n'"
            ],
            "application/vnd.google.colaboratory.intrinsic+json": {
              "type": "string"
            }
          },
          "metadata": {},
          "execution_count": 16
        }
      ]
    },
    {
      "cell_type": "code",
      "source": [
        "# 판다스 임포트\n",
        "import pandas as pd\n",
        "\n",
        "# 간단한 데이터프레임 생성\n",
        "data = {'Name': ['Alice', 'Bob', 'Charlie'], 'Age': [25, 30, 35]}\n",
        "df = pd.DataFrame(data)\n",
        "print(df)  # 데이터프레임 출력"
      ],
      "metadata": {
        "colab": {
          "base_uri": "https://localhost:8080/"
        },
        "id": "U1oCT4mIPu7x",
        "outputId": "6972c203-b1ea-4a9e-c3c1-f822e29ad29e"
      },
      "execution_count": null,
      "outputs": [
        {
          "output_type": "stream",
          "name": "stdout",
          "text": [
            "      Name  Age\n",
            "0    Alice   25\n",
            "1      Bob   30\n",
            "2  Charlie   35\n"
          ]
        }
      ]
    },
    {
      "cell_type": "code",
      "source": [
        "# 시리즈 생성\n",
        "s = pd.Series([1, 2, 3, 4, 5])\n",
        "print(s)  # 시리즈 출력"
      ],
      "metadata": {
        "colab": {
          "base_uri": "https://localhost:8080/"
        },
        "id": "UvRa_g6sPu-p",
        "outputId": "28eb8d56-d972-4e78-80ad-5c7c0af615da"
      },
      "execution_count": null,
      "outputs": [
        {
          "output_type": "stream",
          "name": "stdout",
          "text": [
            "0    1\n",
            "1    2\n",
            "2    3\n",
            "3    4\n",
            "4    5\n",
            "dtype: int64\n"
          ]
        }
      ]
    },
    {
      "cell_type": "code",
      "source": [
        "# 데이터프레임 생성\n",
        "data = {'Name': ['Alice', 'Bob', 'Charlie'], 'Age': [25, 30, 35]}\n",
        "df = pd.DataFrame(data)\n",
        "print(df)  # 데이터프레임 출력"
      ],
      "metadata": {
        "colab": {
          "base_uri": "https://localhost:8080/"
        },
        "id": "Y-g8cpCaPvBl",
        "outputId": "d8c9f3cf-9ee8-4e00-9ab5-9c536bea225c"
      },
      "execution_count": null,
      "outputs": [
        {
          "output_type": "stream",
          "name": "stdout",
          "text": [
            "      Name  Age\n",
            "0    Alice   25\n",
            "1      Bob   30\n",
            "2  Charlie   35\n"
          ]
        }
      ]
    },
    {
      "cell_type": "code",
      "source": [
        "'''\n",
        "\n",
        "# CSV 파일 읽기\n",
        "df = pd.read_csv('data.csv')\n",
        "print(df)  # CSV 파일의 내용을 데이터프레임으로 출력\n",
        "\n",
        "# CSV 파일 쓰기\n",
        "df.to_csv('output.csv', index=False)  # 데이터프레임을 CSV 파일로 저장\n",
        "\n",
        "'''"
      ],
      "metadata": {
        "colab": {
          "base_uri": "https://localhost:8080/",
          "height": 54
        },
        "id": "rV2-agDlPvDd",
        "outputId": "998a8305-f72d-447e-efd9-584c66fb8da8"
      },
      "execution_count": null,
      "outputs": [
        {
          "output_type": "execute_result",
          "data": {
            "text/plain": [
              "\"\\n\\n# CSV 파일 읽기\\ndf = pd.read_csv('data.csv')\\nprint(df)  # CSV 파일의 내용을 데이터프레임으로 출력\\n\\n# CSV 파일 쓰기\\ndf.to_csv('output.csv', index=False)  # 데이터프레임을 CSV 파일로 저장\\n\\n\""
            ],
            "application/vnd.google.colaboratory.intrinsic+json": {
              "type": "string"
            }
          },
          "metadata": {},
          "execution_count": 20
        }
      ]
    },
    {
      "cell_type": "code",
      "source": [
        "'''\n",
        "\n",
        "# Excel 파일 읽기\n",
        "df = pd.read_excel('data.xlsx')\n",
        "print(df)  # Excel 파일의 내용을 데이터프레임으로 출력\n",
        "\n",
        "# Excel 파일 쓰기\n",
        "df.to_excel('output.xlsx', index=False)  # 데이터프레임을 Excel 파일로 저장\n",
        "\n",
        "'''\n"
      ],
      "metadata": {
        "colab": {
          "base_uri": "https://localhost:8080/",
          "height": 54
        },
        "id": "qxG6kOP5PvGx",
        "outputId": "430a881c-d9da-4bab-be40-5d6aa9d88224"
      },
      "execution_count": null,
      "outputs": [
        {
          "output_type": "execute_result",
          "data": {
            "text/plain": [
              "\"\\n\\n# Excel 파일 읽기\\ndf = pd.read_excel('data.xlsx')\\nprint(df)  # Excel 파일의 내용을 데이터프레임으로 출력\\n\\n# Excel 파일 쓰기\\ndf.to_excel('output.xlsx', index=False)  # 데이터프레임을 Excel 파일로 저장\\n\\n\""
            ],
            "application/vnd.google.colaboratory.intrinsic+json": {
              "type": "string"
            }
          },
          "metadata": {},
          "execution_count": 21
        }
      ]
    },
    {
      "cell_type": "code",
      "source": [
        "'''\n",
        "\n",
        "import sqlite3\n",
        "\n",
        "# SQLite 데이터베이스 연결\n",
        "conn = sqlite3.connect('database.db')\n",
        "\n",
        "# SQL 쿼리를 통해 데이터 읽기\n",
        "df = pd.read_sql_query('SELECT * FROM table_name', conn)\n",
        "print(df)  # SQL 쿼리 결과를 데이터프레임으로 출력\n",
        "\n",
        "# 데이터프레임을 SQL 테이블로 저장\n",
        "df.to_sql('table_name', conn, if_exists='replace', index=False)\n",
        "\n",
        "'''\n"
      ],
      "metadata": {
        "colab": {
          "base_uri": "https://localhost:8080/",
          "height": 72
        },
        "id": "W2ekZy-FPvIm",
        "outputId": "f2872463-cdc3-4205-9979-df35979728a2"
      },
      "execution_count": null,
      "outputs": [
        {
          "output_type": "execute_result",
          "data": {
            "text/plain": [
              "\"\\n\\nimport sqlite3\\n\\n# SQLite 데이터베이스 연결\\nconn = sqlite3.connect('database.db')\\n\\n# SQL 쿼리를 통해 데이터 읽기\\ndf = pd.read_sql_query('SELECT * FROM table_name', conn)\\nprint(df)  # SQL 쿼리 결과를 데이터프레임으로 출력\\n\\n# 데이터프레임을 SQL 테이블로 저장\\ndf.to_sql('table_name', conn, if_exists='replace', index=False)\\n\\n\""
            ],
            "application/vnd.google.colaboratory.intrinsic+json": {
              "type": "string"
            }
          },
          "metadata": {},
          "execution_count": 22
        }
      ]
    },
    {
      "cell_type": "code",
      "source": [
        "# 특정 열 선택\n",
        "print(df['Name'])  # 'Name' 열 출력\n",
        "\n",
        "# 조건에 따른 행 필터링\n",
        "filtered_df = df[df['Age'] > 30]\n",
        "print(filtered_df)  # 'Age'가 30보다 큰 행들 출력\n"
      ],
      "metadata": {
        "colab": {
          "base_uri": "https://localhost:8080/"
        },
        "id": "p_yhcZ3FPvLg",
        "outputId": "ea5568fb-d800-4c66-95f6-b3edfef42102"
      },
      "execution_count": null,
      "outputs": [
        {
          "output_type": "stream",
          "name": "stdout",
          "text": [
            "0      Alice\n",
            "1        Bob\n",
            "2    Charlie\n",
            "Name: Name, dtype: object\n",
            "      Name  Age\n",
            "2  Charlie   35\n"
          ]
        }
      ]
    },
    {
      "cell_type": "code",
      "source": [
        "# 데이터 정렬\n",
        "sorted_df = df.sort_values(by='Age')\n",
        "print(sorted_df)  # 'Age' 기준으로 정렬된 데이터프레임 출력\n",
        "\n",
        "# 데이터 요약\n",
        "print(df.describe())  # 데이터프레임의 요약 통계 출력\n"
      ],
      "metadata": {
        "colab": {
          "base_uri": "https://localhost:8080/"
        },
        "id": "jrt3-jcIOazE",
        "outputId": "c3c8874e-5bd4-4f9c-9ad0-8da5b5afa90b"
      },
      "execution_count": null,
      "outputs": [
        {
          "output_type": "stream",
          "name": "stdout",
          "text": [
            "      Name  Age\n",
            "0    Alice   25\n",
            "1      Bob   30\n",
            "2  Charlie   35\n",
            "        Age\n",
            "count   3.0\n",
            "mean   30.0\n",
            "std     5.0\n",
            "min    25.0\n",
            "25%    27.5\n",
            "50%    30.0\n",
            "75%    32.5\n",
            "max    35.0\n"
          ]
        }
      ]
    },
    {
      "cell_type": "code",
      "source": [
        "# 결측치 확인\n",
        "print(df.isnull().sum())  # 각 열의 결측치 개수 출력\n",
        "\n",
        "# 결측치 채우기\n",
        "df['Age'].fillna(df['Age'].mean(), inplace=True)  # 'Age' 열의 결측치를 평균값으로 채움\n"
      ],
      "metadata": {
        "colab": {
          "base_uri": "https://localhost:8080/"
        },
        "id": "z6UCH5dPOa1y",
        "outputId": "6c39cfc0-38a2-4bab-8e9e-829d312ed029"
      },
      "execution_count": null,
      "outputs": [
        {
          "output_type": "stream",
          "name": "stdout",
          "text": [
            "Name    0\n",
            "Age     0\n",
            "dtype: int64\n"
          ]
        }
      ]
    },
    {
      "cell_type": "code",
      "source": [
        "# 데이터프레임 병합\n",
        "df1 = pd.DataFrame({'A': [1, 2], 'B': [3, 4]})\n",
        "df2 = pd.DataFrame({'A': [5, 6], 'B': [7, 8]})\n",
        "merged_df = pd.concat([df1, df2])\n",
        "print(merged_df)  # 두 데이터프레임을 병합하여 출력\n",
        "\n",
        "# 데이터프레임 결합\n",
        "df1 = pd.DataFrame({'key': ['A', 'B'], 'value': [1, 2]})\n",
        "df2 = pd.DataFrame({'key': ['A', 'B'], 'value': [3, 4]})\n",
        "joined_df = pd.merge(df1, df2, on='key')\n",
        "print(joined_df)  # 두 데이터프레임을 'key' 열을 기준으로 결합하여 출력\n"
      ],
      "metadata": {
        "colab": {
          "base_uri": "https://localhost:8080/"
        },
        "id": "Qqu9HL0iOa49",
        "outputId": "8f5c72ce-b20f-4318-e8a2-ebed013bfd88"
      },
      "execution_count": null,
      "outputs": [
        {
          "output_type": "stream",
          "name": "stdout",
          "text": [
            "   A  B\n",
            "0  1  3\n",
            "1  2  4\n",
            "0  5  7\n",
            "1  6  8\n",
            "  key  value_x  value_y\n",
            "0   A        1        3\n",
            "1   B        2        4\n"
          ]
        }
      ]
    },
    {
      "cell_type": "code",
      "source": [
        "'''\n",
        "피벗 테이블은 특정 열(‘Age’)에 대해 집계 연산을 수행하고, 결과를 재구성하여 새로운 테이블을 생성합니다.\n",
        "\n",
        "그룹화는 여러 열(‘Age’, ‘Score’)에 대해 집계 연산을 수행하고, 각 그룹의 평균값을 계산하여 결과를 반환합니다.\n",
        "'''\n",
        "\n",
        "import pandas as pd\n",
        "\n",
        "# 예제 데이터프레임 생성\n",
        "data = {\n",
        "    'Name': ['Alice', 'Bob', 'Charlie', 'Alice', 'Bob', 'Charlie'],\n",
        "    'Age': [25, 30, 35, 28, 32, 36],\n",
        "    'Score': [85, 90, 95, 88, 92, 98]\n",
        "}\n",
        "df = pd.DataFrame(data)\n",
        "\n",
        "# 피벗 테이블 생성\n",
        "pivot_table = df.pivot_table(values='Age', index='Name', aggfunc='mean')\n",
        "print(pivot_table)  # 'Name'을 기준으로 'Age'의 평균값을 계산하여 피벗 테이블 생성"
      ],
      "metadata": {
        "colab": {
          "base_uri": "https://localhost:8080/"
        },
        "id": "HbSe8W-wOa7x",
        "outputId": "a64db39b-e09e-47e1-9f4a-4b271f82cd55"
      },
      "execution_count": null,
      "outputs": [
        {
          "output_type": "stream",
          "name": "stdout",
          "text": [
            "          Age\n",
            "Name         \n",
            "Alice    26.5\n",
            "Bob      31.0\n",
            "Charlie  35.5\n"
          ]
        }
      ]
    },
    {
      "cell_type": "code",
      "source": [
        "# 그룹화\n",
        "grouped_df = df.groupby('Name').mean()\n",
        "print(grouped_df)  # 'Name'을 기준으로 그룹화하여 각 그룹의 평균값 계산"
      ],
      "metadata": {
        "colab": {
          "base_uri": "https://localhost:8080/"
        },
        "id": "WifBFuX7Q7Bc",
        "outputId": "78292963-c956-4458-8faa-3e1aa5c2689e"
      },
      "execution_count": null,
      "outputs": [
        {
          "output_type": "stream",
          "name": "stdout",
          "text": [
            "          Age  Score\n",
            "Name                \n",
            "Alice    26.5   86.5\n",
            "Bob      31.0   91.0\n",
            "Charlie  35.5   96.5\n"
          ]
        }
      ]
    }
  ]
}